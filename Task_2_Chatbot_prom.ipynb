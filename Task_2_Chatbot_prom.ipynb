{
  "nbformat": 4,
  "nbformat_minor": 0,
  "metadata": {
    "colab": {
      "provenance": [],
      "authorship_tag": "ABX9TyN5WIcDmCqwxLZOGlbXsPFo",
      "include_colab_link": true
    },
    "kernelspec": {
      "name": "python3",
      "display_name": "Python 3"
    },
    "language_info": {
      "name": "python"
    }
  },
  "cells": [
    {
      "cell_type": "markdown",
      "metadata": {
        "id": "view-in-github",
        "colab_type": "text"
      },
      "source": [
        "<a href=\"https://colab.research.google.com/github/VISWASKUMAR-S/BGC-GenAI-Finanical-Inforamtion-Chatbot/blob/main/Chatbot_prom.ipynb\" target=\"_parent\"><img src=\"https://colab.research.google.com/assets/colab-badge.svg\" alt=\"Open In Colab\"/></a>"
      ]
    },
    {
      "cell_type": "code",
      "execution_count": null,
      "metadata": {
        "id": "oTpqSON3Fw0R"
      },
      "outputs": [],
      "source": [
        "import pandas as pd\n",
        "\n",
        "def simple_chatbot(company_name, user_query):\n",
        "    # Ensure the dataframe is not empty after filtering\n",
        "    company_data = df[df['Company name'] == company_name]\n",
        "    if company_data.empty:\n",
        "        return \"No data found for this company.\"\n",
        "\n",
        "    latest_year = company_data['Year'].max()  # Calculate latest year after filtering for the company\n",
        "    previous_year = latest_year - 1\n",
        "\n",
        "    if user_query == \"What is the total revenue?\":\n",
        "        revenue = company_data.loc[company_data['Year'] == latest_year, 'Total_Revenue'].values[0]\n",
        "        return f\"The total revenue for {company_name} in {latest_year} is {revenue}.\"\n",
        "\n",
        "    elif user_query == \"How has net income changed over the last year?\":\n",
        "        net_income_latest = company_data.loc[company_data['Year'] == latest_year, 'Net_Income'].values[0]\n",
        "        net_income_previous = company_data.loc[company_data['Year'] == previous_year, 'Net_Income'].values[0]\n",
        "        change = net_income_latest - net_income_previous\n",
        "        change_type = \"increased\" if change > 0 else \"decreased\"\n",
        "        return f\"The net income for {company_name} has {change_type} by {abs(change)} over the last year ({previous_year} to {latest_year}).\"\n",
        "\n",
        "    elif user_query == \"What is the total assets?\":\n",
        "        assets = company_data.loc[company_data['Year'] == latest_year, 'Total_Assets'].values[0]\n",
        "        return f\"The total assets for {company_name} in {latest_year} are {assets}.\"\n",
        "\n",
        "    elif user_query == \"What is the total liabilities?\":\n",
        "        liabilities = company_data.loc[company_data['Year'] == latest_year, 'Total_liabilities'].values[0]\n",
        "        return f\"The total liabilities for {company_name} in {latest_year} are {liabilities}.\"\n",
        "\n",
        "    elif user_query == \"What is the cash flow from operation?\":\n",
        "        cash_flow = company_data.loc[company_data['Year'] == latest_year, 'Cash flow FromOperation(In million dollars)']\n",
        "        return f\"The cash flow from operation for {company_name} in {latest_year} is {cash_flow} million dollars.\"\n",
        "\n",
        "    else:\n",
        "        return \"Sorry, I can only provide information on predefined queries.\"\n",
        "\n",
        "# Example interactions\n",
        "print(simple_chatbot(\"Microsoft\", \"What is the total revenue?\"))\n",
        "print(simple_chatbot(\"Apple\", \"How has net income changed over the last year?\"))\n",
        "print(simple_chatbot(\"Tesla\", \"What is the total assets?\"))\n",
        "print(simple_chatbot(\"Apple\", \"What is the cash flow from operation?\"))"
      ]
    },
    {
      "cell_type": "code",
      "source": [],
      "metadata": {
        "id": "nER-U9ArGBk8"
      },
      "execution_count": null,
      "outputs": []
    }
  ]
}
